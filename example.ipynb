{
 "cells": [
  {
   "cell_type": "code",
   "execution_count": null,
   "id": "0b714f83-63b6-4fb3-b1fd-bbfb78654f1f",
   "metadata": {},
   "outputs": [],
   "source": [
    "import os\n",
    "from pymanifold import Session"
   ]
  },
  {
   "cell_type": "code",
   "execution_count": null,
   "id": "39e954da-e94c-458c-93c7-c0cd2bfcd175",
   "metadata": {},
   "outputs": [],
   "source": []
  },
  {
   "cell_type": "code",
   "execution_count": null,
   "id": "61d8dbb4-3a97-4396-9c7c-d0d6cea849f3",
   "metadata": {},
   "outputs": [],
   "source": [
    "user = Session('/user/[username]')"
   ]
  },
  {
   "cell_type": "code",
   "execution_count": null,
   "id": "ad1db612-6253-4ed7-9921-525a8b049e2c",
   "metadata": {},
   "outputs": [],
   "source": [
    "user.execute({\"username\": \"iameskild\"})"
   ]
  },
  {
   "cell_type": "code",
   "execution_count": null,
   "id": "4b515817-9f84-4b2e-b0ac-d4601696296c",
   "metadata": {},
   "outputs": [],
   "source": []
  },
  {
   "cell_type": "code",
   "execution_count": null,
   "id": "6edf56d3-9c1d-44bf-8a94-e61042ab67bf",
   "metadata": {},
   "outputs": [],
   "source": [
    "markets = Session(\"/markets\")"
   ]
  },
  {
   "cell_type": "code",
   "execution_count": null,
   "id": "f7603b0d-edba-448c-93d5-88cabd584341",
   "metadata": {},
   "outputs": [],
   "source": [
    "markets.execute(params={\"limit\": 2})"
   ]
  },
  {
   "cell_type": "code",
   "execution_count": null,
   "id": "6d3ebedc-edb8-4095-a489-7519d099a712",
   "metadata": {},
   "outputs": [],
   "source": []
  },
  {
   "cell_type": "code",
   "execution_count": null,
   "id": "6653d9ec-a63a-4a1c-8a96-9c8facc87c03",
   "metadata": {},
   "outputs": [],
   "source": [
    "# A proof-of-concept that these models exist and work\n",
    "# interacting with them in their current state doesn't do anything useful\n",
    "from pymanifold.models.user.username__ import UserUsername"
   ]
  },
  {
   "cell_type": "code",
   "execution_count": null,
   "id": "cf8f8215-7d69-4bcf-bc2e-9b93e39a406e",
   "metadata": {},
   "outputs": [],
   "source": [
    "UserUsername(username='iameskild')"
   ]
  }
 ],
 "metadata": {
  "kernelspec": {
   "display_name": "Python 3 (ipykernel)",
   "language": "python",
   "name": "python3"
  },
  "language_info": {
   "codemirror_mode": {
    "name": "ipython",
    "version": 3
   },
   "file_extension": ".py",
   "mimetype": "text/x-python",
   "name": "python",
   "nbconvert_exporter": "python",
   "pygments_lexer": "ipython3",
   "version": "3.12.2"
  }
 },
 "nbformat": 4,
 "nbformat_minor": 5
}
